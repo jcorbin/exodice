{
 "cells": [
  {
   "cell_type": "code",
   "execution_count": 1,
   "id": "403576fb-229a-44e6-be92-23d74f76d785",
   "metadata": {
    "tags": []
   },
   "outputs": [],
   "source": [
    "from itertools import product\n",
    "\n",
    "from itertools import islice\n",
    "\n",
    "def batched(iterable, n):\n",
    "    if n < 1:\n",
    "        raise ValueError('n must be at least one')\n",
    "    it = iter(iterable)\n",
    "    while batch := tuple(islice(it, n)):\n",
    "        yield batch\n",
    "\n",
    "def get_batch(iterable, n, id):\n",
    "    if n < 1:\n",
    "        raise ValueError('n must be at least one')\n",
    "    i = n * id\n",
    "    return tuple(islice(iter(iterable), i, i + n))\n",
    "\n",
    "def perm_cycles(a, b):\n",
    "    todo = set(a)\n",
    "\n",
    "    while len(todo) > 0:\n",
    "        do = min(todo)\n",
    "\n",
    "        cycle = [do]\n",
    "        while do in todo:\n",
    "            todo.remove(do)\n",
    "            do_i = next( i for i, val in enumerate(a) if val == do )\n",
    "            don = b[do_i]\n",
    "            if don == do or don == cycle[0]: break\n",
    "\n",
    "            cycle.append(don)\n",
    "            do = don\n",
    "        if len(cycle) > 1:\n",
    "            yield tuple(cycle)"
   ]
  },
  {
   "cell_type": "code",
   "execution_count": 2,
   "id": "6106e19b-0627-42fa-b198-e8c12427b523",
   "metadata": {
    "tags": []
   },
   "outputs": [],
   "source": [
    "def improve_facet_sums(ar):\n",
    "    facet_sums = tuple(map(sum, batched(ar, 4)))\n",
    "\n",
    "    min_facet_id, min_facet_sum = min(enumerate(facet_sums), key=lambda iv: iv[1])\n",
    "    max_facet_id, max_facet_sum = max(enumerate(facet_sums), key=lambda iv: iv[1])\n",
    "\n",
    "    facet_diff = max_facet_sum - min_facet_sum\n",
    "    if facet_diff <= 0: return None\n",
    "\n",
    "    min_facet = get_batch(ar, 4, min_facet_id)\n",
    "    max_facet = get_batch(ar, 4, max_facet_id)\n",
    "\n",
    "    try:\n",
    "        best_swap = max((\n",
    "            choice\n",
    "            for choice in product(enumerate(min_facet), enumerate(max_facet))\n",
    "            if choice[1][1] - choice[0][1] <= facet_diff\n",
    "        ),\n",
    "            key=lambda choice: choice[1][1] - choice[0][1]\n",
    "        )\n",
    "    except ValueError:\n",
    "        return None\n",
    "\n",
    "    return 4*min_facet_id + best_swap[0][0], 4*max_facet_id + best_swap[1][0]"
   ]
  },
  {
   "cell_type": "code",
   "execution_count": 3,
   "id": "8ef125f2-65f0-44c2-be7e-9ff29ffc094e",
   "metadata": {
    "tags": []
   },
   "outputs": [
    {
     "name": "stdout",
     "output_type": "stream",
     "text": [
      "[1, 2, 3, 4, 5, 6, 7, 8, 9, 10, 11, 12, 13, 14, 15, 16, 17, 18, 19, 20, 21, 22, 23, 24]\n",
      "( 0 23 )\n",
      "[24, 2, 3, 4, 5, 6, 7, 8, 9, 10, 11, 12, 13, 14, 15, 16, 17, 18, 19, 20, 21, 22, 23, 1]\n",
      "( 4 19 )\n",
      "[24, 2, 3, 4, 20, 6, 7, 8, 9, 10, 11, 12, 13, 14, 15, 16, 17, 18, 19, 5, 21, 22, 23, 1]\n",
      "( 1 22 )\n",
      "[24, 23, 3, 4, 20, 6, 7, 8, 9, 10, 11, 12, 13, 14, 15, 16, 17, 18, 19, 5, 21, 22, 2, 1]\n",
      "( 5 18 )\n",
      "[24, 23, 3, 4, 20, 19, 7, 8, 9, 10, 11, 12, 13, 14, 15, 16, 17, 18, 6, 5, 21, 22, 2, 1]\n",
      "( 8 15 )\n",
      "[24, 23, 3, 4, 20, 19, 7, 8, 16, 10, 11, 12, 13, 14, 15, 9, 17, 18, 6, 5, 21, 22, 2, 1]\n",
      "( 16 0 )\n",
      "[17, 23, 3, 4, 20, 19, 7, 8, 16, 10, 11, 12, 13, 14, 15, 9, 24, 18, 6, 5, 21, 22, 2, 1]\n",
      "( 23 7 )\n",
      "[17, 23, 3, 4, 20, 19, 7, 1, 16, 10, 11, 12, 13, 14, 15, 9, 24, 18, 6, 5, 21, 22, 2, 8]\n",
      "( 2 18 )\n",
      "[17, 23, 6, 4, 20, 19, 7, 1, 16, 10, 11, 12, 13, 14, 15, 9, 24, 18, 3, 5, 21, 22, 2, 8]\n",
      "( 5 21 )\n",
      "[17, 23, 6, 4, 20, 22, 7, 1, 16, 10, 11, 12, 13, 14, 15, 9, 24, 18, 3, 5, 21, 19, 2, 8]\n",
      "( 10 12 )\n",
      "[17, 23, 6, 4, 20, 22, 7, 1, 16, 10, 13, 12, 11, 14, 15, 9, 24, 18, 3, 5, 21, 19, 2, 8]\n"
     ]
    }
   ],
   "source": [
    "ar = list(range(1, 25))\n",
    "\n",
    "# TODO: longer cycle detection\n",
    "last = None\n",
    "for _ in range(100):\n",
    "    print(ar)\n",
    "    move = improve_facet_sums(ar)\n",
    "    if move is None: break\n",
    "\n",
    "    i, j = move\n",
    "    if (i,j) == last or (j,i) == last: break\n",
    "\n",
    "    print(f'( {i} {j} )')\n",
    "    ar[i], ar[j] = ar[j], ar[i]\n",
    "\n",
    "    last = i,j"
   ]
  },
  {
   "cell_type": "code",
   "execution_count": 4,
   "id": "6e3827d4-b847-4522-b33a-76870425fd36",
   "metadata": {
    "tags": []
   },
   "outputs": [
    {
     "data": {
      "text/plain": [
       "(50, 50, 51, 49, 50, 50)"
      ]
     },
     "execution_count": 4,
     "metadata": {},
     "output_type": "execute_result"
    }
   ],
   "source": [
    "tuple(map(sum, batched(ar, 4)))"
   ]
  },
  {
   "cell_type": "code",
   "execution_count": 21,
   "id": "1a6474bf-60f7-465f-a894-c9b3762a2c40",
   "metadata": {
    "tags": []
   },
   "outputs": [
    {
     "name": "stdout",
     "output_type": "stream",
     "text": [
      "(1, 2, 3, 4, 5, 6, 7, 8, 9, 10, 11, 12, 13, 14, 15, 16, 17, 18, 19, 20, 21, 22, 23, 24)\n",
      "(17, 23, 6, 4, 20, 22, 7, 1, 16, 10, 13, 12, 11, 14, 15, 9, 24, 18, 3, 5, 21, 19, 2, 8)\n",
      "(1 17 24 8) (2 23) (3 6 22 19) (5 20) (9 16) (11 13)\n"
     ]
    }
   ],
   "source": [
    "a = tuple(range(1, 25))\n",
    "b = tuple(ar)\n",
    "\n",
    "print(a)\n",
    "print(b)\n",
    "print(' '.join(f'({\" \".join(map(str, c))})' for c in perm_cycles(a, b)))"
   ]
  },
  {
   "cell_type": "code",
   "execution_count": null,
   "id": "1d279e80-d6e6-449b-9c93-6ef8b8cc39b3",
   "metadata": {},
   "outputs": [],
   "source": []
  }
 ],
 "metadata": {
  "kernelspec": {
   "display_name": "Python 3 (ipykernel)",
   "language": "python",
   "name": "python3"
  },
  "language_info": {
   "codemirror_mode": {
    "name": "ipython",
    "version": 3
   },
   "file_extension": ".py",
   "mimetype": "text/x-python",
   "name": "python",
   "nbconvert_exporter": "python",
   "pygments_lexer": "ipython3",
   "version": "3.10.10"
  }
 },
 "nbformat": 4,
 "nbformat_minor": 5
}
