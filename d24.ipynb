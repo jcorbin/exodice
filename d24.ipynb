{
 "cells": [
  {
   "cell_type": "code",
   "execution_count": 1,
   "id": "ac835d7b-767a-4314-bcf4-1d3ad27b856b",
   "metadata": {
    "tags": []
   },
   "outputs": [],
   "source": [
    "from textwrap import dedent\n",
    "\n",
    "def parse_facets(s):\n",
    "    return tuple(\n",
    "        tuple(map(int, line.strip().split()))\n",
    "        for line in s.splitlines()\n",
    "    )"
   ]
  },
  {
   "cell_type": "code",
   "execution_count": 2,
   "id": "2ef9bb8e-6f8e-4d82-b4f7-e1a5438189d4",
   "metadata": {
    "tags": []
   },
   "outputs": [],
   "source": [
    "def perm_cycles(a, b):\n",
    "    todo = set(a)\n",
    "\n",
    "    while len(todo) > 0:\n",
    "        do = min(todo)\n",
    "\n",
    "        cycle = [do]\n",
    "        while do in todo:\n",
    "            todo.remove(do)\n",
    "            do_i = next( i for i, val in enumerate(a) if val == do )\n",
    "            don = b[do_i]\n",
    "            if don == do or don == cycle[0]: break\n",
    "\n",
    "            cycle.append(don)\n",
    "            do = don\n",
    "        if len(cycle) > 1:\n",
    "            yield tuple(cycle)\n",
    "\n",
    "def perm_string(a, b):\n",
    "    return ' '.join(f'({\" \".join(map(str, c))})' for c in perm_cycles(a, b))"
   ]
  },
  {
   "cell_type": "code",
   "execution_count": 3,
   "id": "e5a52e46-7836-43bd-af90-36884def25c0",
   "metadata": {
    "tags": []
   },
   "outputs": [],
   "source": [
    "def find_cycle(seq, eq=lambda a, b: a == b):\n",
    "    tortoise = 1\n",
    "    hare = 2\n",
    "    while not eq(seq[tortoise], seq[hare]):\n",
    "        tortoise += 1\n",
    "        hare += 2\n",
    "\n",
    "    mu = 0\n",
    "    tortoise = 0\n",
    "    while not eq(seq[tortoise], seq[hare]):\n",
    "        tortoise += 1\n",
    "        hare += 1\n",
    "        mu += 1\n",
    "\n",
    "    lam = 1\n",
    "    hare = tortoise + 1\n",
    "    while not eq(seq[tortoise], seq[hare]):\n",
    "        hare += 1\n",
    "        lam += 1\n",
    "\n",
    "    return mu + lam"
   ]
  },
  {
   "cell_type": "code",
   "execution_count": 4,
   "id": "1d536001-20f8-45b4-b1d4-3d72272dba6c",
   "metadata": {
    "tags": []
   },
   "outputs": [],
   "source": [
    "def facet_sums(perm, facets):\n",
    "    return tuple(sum(perm[n-1] for n in f) for f in facets)\n",
    "\n",
    "def facet_sum_dev(perm, facets):\n",
    "    sums = tuple(sum(perm[n-1] for n in f) for f in facets)\n",
    "    lo = min(sums)\n",
    "    hi = max(sums)\n",
    "    w = hi - lo\n",
    "    h = lo + w/2\n",
    "    return sum((s - h)/w for s in sums)\n",
    "\n",
    "def facet_sum_var(perm, facets):\n",
    "    sums = tuple(sum(perm[n-1] for n in f) for f in facets)\n",
    "    lo = min(sums)\n",
    "    hi = max(sums)\n",
    "    return hi - lo"
   ]
  },
  {
   "cell_type": "code",
   "execution_count": 5,
   "id": "71af313c-3354-4a84-8e8d-39ad7d706bcf",
   "metadata": {
    "tags": []
   },
   "outputs": [],
   "source": [
    "primary_facets = parse_facets(dedent('''\\\n",
    "     1  2  3  4\n",
    "     5  6  7  8\n",
    "     9 10 11 12\n",
    "    13 14 15 16\n",
    "    17 18 19 20\n",
    "    21 22 23 24\n",
    "'''))\n",
    "\n",
    "secondary_facets = parse_facets(dedent('''\\\n",
    "    1 2 15\n",
    "    1 15 16\n",
    "    1 16 22\n",
    "    1 22 4\n",
    "    2 3 20\n",
    "    2 20 17\n",
    "    2 17 15\n",
    "    3 4 5\n",
    "    3 5 6\n",
    "    3 6 20\n",
    "    4 22 23\n",
    "    4 23 5\n",
    "    5 23 8\n",
    "    6 7 19\n",
    "    6 19 20\n",
    "    7 8 9\n",
    "    7 9 10\n",
    "    7 10 19\n",
    "    8 23 24\n",
    "    8 24 9\n",
    "    9 24 12\n",
    "    10 11 18\n",
    "    10 18 19\n",
    "    11 12 13\n",
    "    11 13 14\n",
    "    11 14 18\n",
    "    12 24 21\n",
    "    12 21 13\n",
    "    13 21 16\n",
    "    14 15 17\n",
    "    14 17 18\n",
    "    16 21 22\n",
    "'''))"
   ]
  },
  {
   "cell_type": "code",
   "execution_count": 6,
   "id": "c58e9e06-c78d-44b5-a1a1-b2d245ad4eaa",
   "metadata": {
    "tags": []
   },
   "outputs": [],
   "source": [
    "from collections import namedtuple\n",
    "\n",
    "Move = namedtuple('Move', ['score', 'perm', 'i', 'j', 'reason'])\n",
    "\n",
    "def move_eq(a, b):\n",
    "    i, j = a.i, a.j\n",
    "    k, l = b.i, b.j\n",
    "    if j < i: i, j = j, i\n",
    "    if l < k: k, l = l, k\n",
    "    return i == k and j == l\n",
    "\n",
    "def apply_moves(perm, moves):\n",
    "    ar = list(perm)\n",
    "    for move in moves:\n",
    "        i, j = move.i, move.j\n",
    "        ar[i], ar[j] = ar[j], ar[i]\n",
    "    return tuple(ar)\n",
    "\n",
    "def ichoice(seq):\n",
    "    for i in range(len(seq)):\n",
    "        yield seq[i], seq[:i] + seq[i+1:]"
   ]
  },
  {
   "cell_type": "code",
   "execution_count": 7,
   "id": "591de945-df05-4104-a1df-a3d2cd9fc8e4",
   "metadata": {
    "tags": []
   },
   "outputs": [],
   "source": [
    "from itertools import product\n",
    "import math\n",
    "\n",
    "def facet_sum_improvements(perm, facets, aspect):\n",
    "    sums = tuple(sum(perm[n-1] for n in f) for f in facets)\n",
    "    by_sum = sorted(enumerate(sums), key=lambda iv: iv[1])\n",
    "    \n",
    "    # min/max facet cursors in sorted-by-sum order\n",
    "    i, j = 0, len(sums)-1\n",
    "   \n",
    "    while True:\n",
    "        diff = by_sum[j][1] - by_sum[i][1]\n",
    "        if diff <= 0: break\n",
    "\n",
    "        fi = by_sum[i][0]\n",
    "        fj = by_sum[j][0]\n",
    "        for (to_swap, to_keep), (from_swap, from_keep) in product(ichoice(facets[fi]), ichoice(facets[fj])):\n",
    "            if to_swap == from_swap: continue\n",
    "\n",
    "            to_rem = sum(perm[n-1] for n in to_keep)\n",
    "            from_rem = sum(perm[n-1] for n in from_keep)\n",
    "\n",
    "            to_val = perm[to_swap-1]\n",
    "            from_val = perm[from_swap-1]\n",
    "\n",
    "            delta = from_val - to_val\n",
    "            if delta <= 0: continue\n",
    "\n",
    "            a_sum = to_rem + from_val\n",
    "            b_sum = from_rem + to_val\n",
    "            new_var = b_sum - a_sum\n",
    "            score = math.inf if new_var == 0 else delta / new_var\n",
    "\n",
    "            yield Move(score, perm, to_swap-1, from_swap-1, f'{aspect} sum balance d:{delta} a:{facets[fi]} b:{facets[fj]}')\n",
    "    \n",
    "        break # TODO wen i++ wen j--"
   ]
  },
  {
   "cell_type": "code",
   "execution_count": 8,
   "id": "748f2877-9dc4-4506-a9fb-6057b34d62c1",
   "metadata": {
    "tags": []
   },
   "outputs": [],
   "source": [
    "def optimize(perm, mover, limit=10000):\n",
    "    ar = list(perm)\n",
    "    moves = []\n",
    "\n",
    "    for _ in range(limit):\n",
    "        for move in mover(ar):\n",
    "            i, j = move.i, move.j\n",
    "            ar[i], ar[j] = ar[j], ar[i]\n",
    "            moves.append(move)\n",
    "            break\n",
    "        else: break\n",
    "\n",
    "        try:\n",
    "            end = find_cycle(moves, eq=move_eq)\n",
    "        except IndexError:\n",
    "            continue\n",
    "        else:\n",
    "            moves = moves[:end]\n",
    "            break\n",
    "\n",
    "    return moves"
   ]
  },
  {
   "cell_type": "code",
   "execution_count": 9,
   "id": "88432146-08da-4c65-b179-c69fd3a08495",
   "metadata": {
    "tags": []
   },
   "outputs": [
    {
     "name": "stdout",
     "output_type": "stream",
     "text": [
      "(1 4 23 8 7 14 5 12) (3 16)\n",
      "(4 9 24 20 18 6 12 21) (5 10 13 22 19 17)\n",
      "(1 23) (2 10 16 14 13 24) (3 11)\n",
      "(5 21) (9 22)\n",
      "(1 13) (3 16 5 22 23 9 24 14)\n",
      "(2 12 21 24)\n",
      "(1 2 23 21 9 12)\n",
      "(1 24 9 22)\n",
      "(1 22 2 3 16 5 24) (14 23)\n",
      "(1 21) (2 14) (22 24)\n",
      "(1 3 21) (2 16)\n",
      "(1 3 24 16)\n",
      "(1 21 24)\n",
      "(1 3 10 16 23 21)\n",
      "(1 24 2 14 5)\n",
      "(5 23 10 24)\n",
      "(1 5 24) (2 10 23)\n",
      "(1 2 23 24)\n",
      "(1 14) (3 23 10)\n",
      "(2 14) (10 23 24)\n",
      "(1 16) (2 23)\n",
      "(2 23) (10 24)\n",
      "(1 2 16)\n",
      "(2 22 16 10 24)\n",
      "(2 24 23 22 3)\n",
      "(3 23 24)\n",
      "(1 24) (3 23)\n",
      "(1 23)\n",
      "(1 24 23) (3 22)\n",
      "(1 24) (3 22)\n",
      "(1 23 24) (3 22)\n",
      "===\n",
      "(2 22 19 17 9 14 16 11 5 23 8 7) (3 24 20 18 6) (4 13 10 21)\n"
     ]
    }
   ],
   "source": [
    "history = []\n",
    "ar = tuple(range(1, 25))\n",
    "history.append(ar)\n",
    "\n",
    "movers = [\n",
    "    lambda perm: facet_sum_improvements(perm, secondary_facets, '3-facet'),\n",
    "    lambda perm: facet_sum_improvements(perm, primary_facets, '4-facet'),\n",
    "]\n",
    "\n",
    "for i in range(100):\n",
    "    mover = movers[i % len(movers)]\n",
    "\n",
    "    moves = optimize(ar, mover)\n",
    "    #for move in moves: print(move)\n",
    "    new = apply_moves(ar, moves)\n",
    "    ar = new\n",
    "    history.append(ar)\n",
    "    \n",
    "    try:\n",
    "        end = find_cycle(history)\n",
    "    except IndexError: pass\n",
    "    else:\n",
    "        history = history[:end]\n",
    "        break\n",
    "\n",
    "prior = history[0]\n",
    "for perm in history[1:]:\n",
    "    print(perm_string(prior, perm))\n",
    "    prior = perm\n",
    "\n",
    "print('===')\n",
    "\n",
    "print(perm_string(history[0], history[-1]))"
   ]
  },
  {
   "cell_type": "code",
   "execution_count": 10,
   "id": "e9fe098c-6fab-438a-bb0b-5c4780b11785",
   "metadata": {
    "tags": []
   },
   "outputs": [],
   "source": [
    "v1 = [\n",
    "    facet_sum_var(perm, primary_facets)\n",
    "    for perm in history\n",
    "]"
   ]
  },
  {
   "cell_type": "code",
   "execution_count": 11,
   "id": "bcf27c2f-f48d-4001-bab9-3f4c45148d3b",
   "metadata": {
    "tags": []
   },
   "outputs": [],
   "source": [
    "v2 = [\n",
    "    facet_sum_var(perm, secondary_facets)\n",
    "    for perm in history\n",
    "]"
   ]
  },
  {
   "cell_type": "code",
   "execution_count": 12,
   "id": "c5a2f40c-fb1e-4966-8391-1a9c46fb6c63",
   "metadata": {},
   "outputs": [
    {
     "data": {
      "text/plain": [
       "[3760,\n",
       " 1408,\n",
       " 312,\n",
       " 960,\n",
       " 1000,\n",
       " 945,\n",
       " 1312,\n",
       " 1075,\n",
       " 1394,\n",
       " 1260,\n",
       " 777,\n",
       " 1254,\n",
       " 675,\n",
       " 1634,\n",
       " 1564,\n",
       " 1085,\n",
       " 640,\n",
       " 1089,\n",
       " 1080,\n",
       " 946,\n",
       " 451,\n",
       " 1666,\n",
       " 782,\n",
       " 1406,\n",
       " 1125,\n",
       " 525,\n",
       " 1215,\n",
       " 650,\n",
       " 1488,\n",
       " 943,\n",
       " 1457,\n",
       " 1050]"
      ]
     },
     "execution_count": 12,
     "metadata": {},
     "output_type": "execute_result"
    }
   ],
   "source": [
    "[x * y for x,y in zip(v1, v2)]"
   ]
  },
  {
   "cell_type": "code",
   "execution_count": 13,
   "id": "263a1408-bce8-40b3-b50b-0c76c611b469",
   "metadata": {
    "tags": []
   },
   "outputs": [],
   "source": [
    "scix = sorted(range(len(history)), key=lambda i: v1[i] * v2[i])"
   ]
  },
  {
   "cell_type": "code",
   "execution_count": 14,
   "id": "983d7192-e81c-4e9e-b9f1-6b8616946289",
   "metadata": {
    "tags": []
   },
   "outputs": [
    {
     "data": {
      "text/plain": [
       "[(2, 312, 8, 39),\n",
       " (20, 451, 11, 41),\n",
       " (25, 525, 15, 35),\n",
       " (16, 640, 16, 40),\n",
       " (27, 650, 13, 50),\n",
       " (12, 675, 15, 45),\n",
       " (10, 777, 21, 37),\n",
       " (22, 782, 17, 46),\n",
       " (29, 943, 23, 41),\n",
       " (5, 945, 21, 45),\n",
       " (19, 946, 22, 43),\n",
       " (3, 960, 30, 32),\n",
       " (4, 1000, 25, 40),\n",
       " (31, 1050, 25, 42),\n",
       " (7, 1075, 25, 43),\n",
       " (18, 1080, 24, 45),\n",
       " (15, 1085, 35, 31),\n",
       " (17, 1089, 33, 33),\n",
       " (24, 1125, 25, 45),\n",
       " (26, 1215, 27, 45),\n",
       " (11, 1254, 38, 33),\n",
       " (9, 1260, 30, 42),\n",
       " (6, 1312, 32, 41),\n",
       " (8, 1394, 34, 41),\n",
       " (23, 1406, 38, 37),\n",
       " (1, 1408, 44, 32),\n",
       " (30, 1457, 31, 47),\n",
       " (28, 1488, 31, 48),\n",
       " (14, 1564, 34, 46),\n",
       " (13, 1634, 43, 38),\n",
       " (21, 1666, 49, 34),\n",
       " (0, 3760, 80, 47)]"
      ]
     },
     "execution_count": 14,
     "metadata": {},
     "output_type": "execute_result"
    }
   ],
   "source": [
    "[\n",
    "    (i, v1[i] * v2[i], v1[i], v2[i])\n",
    "    for i in scix\n",
    "]"
   ]
  },
  {
   "cell_type": "code",
   "execution_count": 15,
   "id": "ab6b4933-fb7b-412c-be07-1c5c52107a65",
   "metadata": {
    "tags": []
   },
   "outputs": [
    {
     "data": {
      "text/plain": [
       "(9,\n",
       " 2,\n",
       " 16,\n",
       " 23,\n",
       " 21,\n",
       " 12,\n",
       " 14,\n",
       " 7,\n",
       " 24,\n",
       " 13,\n",
       " 11,\n",
       " 1,\n",
       " 22,\n",
       " 10,\n",
       " 15,\n",
       " 3,\n",
       " 5,\n",
       " 6,\n",
       " 17,\n",
       " 18,\n",
       " 4,\n",
       " 19,\n",
       " 8,\n",
       " 20)"
      ]
     },
     "execution_count": 15,
     "metadata": {},
     "output_type": "execute_result"
    }
   ],
   "source": [
    "history[scix[0]]"
   ]
  }
 ],
 "metadata": {
  "kernelspec": {
   "display_name": "Python 3 (ipykernel)",
   "language": "python",
   "name": "python3"
  },
  "language_info": {
   "codemirror_mode": {
    "name": "ipython",
    "version": 3
   },
   "file_extension": ".py",
   "mimetype": "text/x-python",
   "name": "python",
   "nbconvert_exporter": "python",
   "pygments_lexer": "ipython3",
   "version": "3.10.10"
  }
 },
 "nbformat": 4,
 "nbformat_minor": 5
}
